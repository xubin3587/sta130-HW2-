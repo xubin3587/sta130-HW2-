{
 "cells": [
  {
   "cell_type": "code",
   "execution_count": 2,
   "id": "4f65d8c1",
   "metadata": {},
   "outputs": [
    {
     "name": "stdout",
     "output_type": "stream",
     "text": [
      "Staying won 333 times out of 1000 (33.30%).\n",
      "Switching won 667 times out of 1000 (66.70%).\n"
     ]
    }
   ],
   "source": [
    "import random\n",
    "\n",
    "def monty_hall_simulation(num_trials):\n",
    "    win_switch = 0  # Count of wins when the contestant switches\n",
    "    win_stay = 0    # Count of wins when the contestant stays\n",
    "\n",
    "    for _ in range(num_trials):\n",
    "        doors = ['goat', 'goat', 'car']\n",
    "        random.shuffle(doors)\n",
    "\n",
    "        # Contestant's initial choice\n",
    "        choice = random.randint(0, 2)\n",
    "\n",
    "        # Monty opens a door\n",
    "        # He knows where the car is and always opens a door with a goat\n",
    "        open_door = next(i for i in range(3) if i != choice and doors[i] == 'goat')\n",
    "\n",
    "        # Door left for switching\n",
    "        switch_door = next(i for i in range(3) if i != choice and i != open_door)\n",
    "\n",
    "        # Count if staying wins\n",
    "        if doors[choice] == 'car':\n",
    "            win_stay += 1\n",
    "\n",
    "        # Count if switching wins\n",
    "        if doors[switch_door] == 'car':\n",
    "            win_switch += 1\n",
    "\n",
    "    return win_stay, win_switch\n",
    "\n",
    "num_trials = 1000\n",
    "results = monty_hall_simulation(num_trials)\n",
    "print(f\"Staying won {results[0]} times out of {num_trials} ({(results[0] / num_trials) * 100:.2f}%).\")\n",
    "print(f\"Switching won {results[1]} times out of {num_trials} ({(results[1] / num_trials) * 100:.2f}%).\")\n"
   ]
  },
  {
   "cell_type": "markdown",
   "id": "a4517ba3",
   "metadata": {},
   "source": [
    "The puzzle of Monty Hall problem is whether it is to your advantage to switch your choice of door, or if it does not matter.The results consistently show that switching the door gives you a higher chance of winning (around 66.70% ), while sticking with the original choice has about 33.30% of winning."
   ]
  },
  {
   "cell_type": "code",
   "execution_count": 3,
   "id": "8850c0df",
   "metadata": {},
   "outputs": [
    {
     "name": "stdout",
     "output_type": "stream",
     "text": [
      "Staying won 341 times out of 1000 (34.10%).\n",
      "Switching won 659 times out of 1000 (65.90%).\n"
     ]
    }
   ],
   "source": [
    "import random\n",
    "\n",
    "def monty_hall_simulation(num_trials):\n",
    "    win_switch = 0  # Count of wins when the contestant switches\n",
    "    win_stay = 0    # Count of wins when the contestant stays\n",
    "\n",
    "    for _ in range(num_trials):\n",
    "        doors = ['goat', 'goat', 'car']  # The three doors: two goats and one car\n",
    "        random.shuffle(doors)  # Shuffle the doors to randomize where the car is\n",
    "\n",
    "        # Contestant picks a random door\n",
    "        initial_choice = random.choice([0, 1, 2])\n",
    "\n",
    "        # Monty opens a door. Monty never opens the door picked by the contestant\n",
    "        # and never opens the door with the car if it wasn't picked by the contestant\n",
    "        for i in range(3):\n",
    "            if i != initial_choice and doors[i] == 'goat':\n",
    "                monty_opens = i\n",
    "                break\n",
    "\n",
    "        # Determine the remaining door that the contestant can switch to\n",
    "        remaining_door = 3 - initial_choice - monty_opens\n",
    "\n",
    "        # Check results of staying with the initial choice\n",
    "        if doors[initial_choice] == 'car':\n",
    "            win_stay += 1\n",
    "\n",
    "        # Check results of switching to the remaining door\n",
    "        if doors[remaining_door] == 'car':\n",
    "            win_switch += 1\n",
    "\n",
    "    return win_stay, win_switch\n",
    "\n",
    "# Run the simulation\n",
    "num_trials = 1000\n",
    "results = monty_hall_simulation(num_trials)\n",
    "print(f\"Staying won {results[0]} times out of {num_trials} ({(results[0] / num_trials) * 100:.2f}%).\")\n",
    "print(f\"Switching won {results[1]} times out of {num_trials} ({(results[1] / num_trials) * 100:.2f}%).\")\n"
   ]
  },
  {
   "cell_type": "markdown",
   "id": "ec744792",
   "metadata": {},
   "source": [
    "I prefer to use simplified coed,because the original code contains more conditional judgments and list operations. The logic for the host to open the door consists of two list comprehensions and a conditional judgment. A list of doors excluding the contestant's choice and the car's position is first generated, if there is more than one door in the list, one is chosen at random, and the choice to change the door is also implemented through a list derivation, looking for the door that is neither the contestant's initial choice nor the door opened by the host. \n",
    "The simplified code improves the efficiency and readability of the code by reducing unnecessary list derivation and flow steps. The logic of the host opening the door is reduced to a single line of code. When there is a car behind the door chosen by the contestant, the host can choose one of the other two doors at random; When there is no car behind the door chosen by the contestant, the host has only one door to choose from, so use next directly to make sure. The replacement door selection is also implemented by a single line of code, which directly finds the remaining unselected and unoclocked doors."
   ]
  },
  {
   "cell_type": "code",
   "execution_count": 4,
   "id": "c260798f",
   "metadata": {
    "scrolled": true
   },
   "outputs": [
    {
     "name": "stdout",
     "output_type": "stream",
     "text": [
      "Staying won 324 times out of 1000 (32.40%).\n",
      "Switching won 676 times out of 1000 (67.60%).\n"
     ]
    }
   ],
   "source": [
    "import random\n",
    "\n",
    "def monty_hall_simulation(num_trials):\n",
    "    win_switch = 0  # Initialize the count of wins when the contestant decides to switch\n",
    "    win_stay = 0    # Initialize the count of wins when the contestant decides to stay with the original choice\n",
    "\n",
    "    for _ in range(num_trials):  # Run the simulation for the specified number of trials\n",
    "        doors = ['goat', 'goat', 'car']  # Set up the doors with two goats and one car behind them\n",
    "        random.shuffle(doors)  # Randomly shuffle the doors to simulate random placement of the car\n",
    "\n",
    "        # Contestant randomly picks one of the doors (0, 1, or 2)\n",
    "        initial_choice = random.choice([0, 1, 2])\n",
    "\n",
    "        # Monty Hall opens one of the remaining doors that has a goat behind it\n",
    "        for i in range(3):  # Loop through each door to determine which one Monty can open\n",
    "            if i != initial_choice and doors[i] == 'goat':  # Monty never opens the contestant's door or a door with the car unless forced\n",
    "                monty_opens = i  # Monty opens this door, revealing a goat\n",
    "                break\n",
    "\n",
    "        # Calculate the remaining door that the contestant can switch to\n",
    "        remaining_door = 3 - initial_choice - monty_opens  # The only door that hasn't been chosen or opened\n",
    "\n",
    "        # Check if staying with the initial choice results in a win\n",
    "        if doors[initial_choice] == 'car':  # If the initial choice is the car\n",
    "            win_stay += 1  # Increment the win counter for staying\n",
    "\n",
    "        # Check if switching to the remaining door results in a win\n",
    "        if doors[remaining_door] == 'car':  # If the remaining door has the car behind it\n",
    "            win_switch += 1  # Increment the win counter for switching\n",
    "\n",
    "    return win_stay, win_switch  # Return the total wins for staying and switching\n",
    "\n",
    "# Run the simulation with a specified number of trials\n",
    "num_trials = 1000\n",
    "results = monty_hall_simulation(num_trials)\n",
    "print(f\"Staying won {results[0]} times out of {num_trials} ({(results[0] / num_trials) * 100:.2f}%).\")\n",
    "print(f\"Switching won {results[1]} times out of {num_trials} ({(results[1] / num_trials) * 100:.2f}%).\")\n",
    "#Line 1-2: Import the random module and define the simulation function, taking the number of trials as an argument.\n",
    "#Line 4-5: Initialize counters to track how often the contestant wins by staying or switching.\n",
    "#Line 7: Start a loop to simulate multiple game trials.\n",
    "#Line 8-9: Setup and shuffle the doors to ensure the car's location is random each trial.\n",
    "#Line 12-17: Identify which door Monty will open, ensuring it's neither the contestant's choice nor the car (unless there's no choice).\n",
    "#Line 20: Calculate the index of the remaining unopened door that the contestant can switch to.\n",
    "#Line 22-24: Check if the original choice was the winning one.\n",
    "#Line 26-28: Check if switching would have won the car.\n",
    "#Line 30: Return the counts of wins for both strategies after all trials are complete.\n",
    "#Line 34-37: Setup and run the simulation, then print the results showing the effectiveness of each strategy (staying vs. switching).\n"
   ]
  },
  {
   "cell_type": "markdown",
   "id": "e28a3422",
   "metadata": {},
   "source": [
    "https://chatgpt.com/share/66ecae1a-918c-8001-8e83-251a7ad6649d"
   ]
  },
  {
   "cell_type": "markdown",
   "id": "cc642f6c",
   "metadata": {},
   "source": [
    "Markovian ChatBot https://chatgpt.com/share/66ecaf24-5204-8001-b271-ad65e1aa4212"
   ]
  },
  {
   "cell_type": "markdown",
   "id": "018bce3f",
   "metadata": {},
   "source": [
    "Importing defaultdict: This imports defaultdict from Python's collections module. defaultdict is a subclass of the dictionary that provides a default value for the key that does not exist.\n",
    "\n",
    "Function Definition: This line defines a function called build_markov_model, which takes one parameter, text, which is the text data you want to use to train the Markov model.\n",
    "\n",
    "Initialize the Model: Here, a defaultdict is created with list as the default factory function. This means that if a key doesn’t exist in the dictionary, it automatically creates a new entry for that key with an empty list as its value.\n",
    "\n",
    "Split Text into Sentences: This line splits the entire text into individual sentences based on the period (.) as a delimiter. This assumes that all sentences in the text are well-formed and end with a period.\n",
    "\n",
    "Loop Through Sentences: This for loop iterates over each sentence in the sentences list.\n",
    "\n",
    "Tokenize the Sentence: Inside the loop, sentence.strip().split() first removes any leading and trailing whitespace from the sentence using strip(), and then split() divides the sentence into words based on spaces. The result is a list of words.\n",
    "\n",
    "Check Sentence Length: This line checks if the sentence contains more than one word. This is necessary because a sentence with less than two words doesn't contribute to the model (as there would be no transition to record).\n",
    "\n",
    "Iterate Over Words in the Sentence: This for loop iterates through the words of the sentence up to the second last word. The len(words) - 1 ensures the loop goes up to the penultimate word, allowing each word to be paired with its subsequent word.\n",
    "\n",
    "Build the Transition Model: For each word in the loop, this line converts the current word to lowercase and uses it as a key in the model dictionary. It then appends the next word (also converted to lowercase) to the list of words that follow the current word. This establishes the word-to-word transition probabilities implicitly.\n",
    "\n",
    "Mark the End of a Sentence: After the loop, the last word of each sentence is handled by appending None to its list. This marks the end of a sentence, which helps in generating responses that should logically conclude rather than hanging mid-sentence.\n",
    "\n",
    "Return the Model: Finally, the constructed defaultdict model is returned by the function. This model can now be used to generate text based on the probabilities of word transitions learned during training.\n"
   ]
  },
  {
   "cell_type": "markdown",
   "id": "409eba6f",
   "metadata": {},
   "source": [
    "https://chatgpt.com/share/66ecaf24-5204-8001-b271-ad65e1aa4212"
   ]
  },
  {
   "cell_type": "markdown",
   "id": "0f9f43cb",
   "metadata": {},
   "source": [
    "Every time I ask the chatbot about the code, the chatbot immediately gives a lot of detailed explanations and examples, including but not limited to definitions, the purpose of each line of code, and examples. This helps me understand the meaning of the code well. But sometimes the chatbot makes simple logical errors that confuse me, and I often need to ask a lot of repeated questions to help the chatbot correct the problems it has made. in conclusion, I can use the chatbot easily to help me solve problems and correct errors in the code, although sometimes the chatbot will make mistakes, but it is still a very convenient tool."
   ]
  },
  {
   "cell_type": "markdown",
   "id": "d4896a48",
   "metadata": {},
   "source": [
    "AI-driven assistance tools can help people save a lot of time to collect information, and the emergence of such tools also solves the drawbacks of relying on human data statistics in the past, saving resources. It seems to me that the trend of AI-driven assistance is toward to become more comprehensive tools that make it easy for people to write code, modify code, and record code."
   ]
  },
  {
   "cell_type": "markdown",
   "id": "358d0cc9",
   "metadata": {},
   "source": [
    "Relevance of Key Skills in Modern Careers:\n",
    "\n",
    "We discussed how crucial it is to have skills like learning and adaptability, communication, coding, and statistics and data analysis in today's career environment. These skills are foundational due to the rapid pace of technological and industry changes. They enhance employability and are essential for navigating and succeeding in various professional contexts.\n",
    "\n",
    "Possibility of Being a Statistician or Data Scientist Without Core Skills:\n",
    "\n",
    "You queried whether it's feasible to be a statistician or data scientist without engaging heavily in coding or data analysis. I explained that both roles inherently involve these skills due to the need to manipulate and interpret large datasets. However, I mentioned that there are related roles such as data analyst or statistical consultant, which might offer slightly less coding-intensive opportunities but still require a solid understanding of data.\n",
    "\n",
    "Essential Skills for Actuaries:\n",
    "\n",
    "When you asked about becoming an actuary, I listed several vital skills, including mathematical prowess, analytical capabilities, business understanding, and effective communication. Actuaries need these skills to assess risks and make predictions accurately. Technical skills in software and programming, attention to detail, and readiness to pass professional certification exams are also crucial for advancing in this field.\n",
    "\n",
    "https://chatgpt.com/share/66ecb995-1a20-8001-bb1e-ec003787f957\n",
    "\n",
    "Being an actuary requires mathematical, analytical, and communication skills. On the premise of having these abilities, only by obtaining a professional license can I have the opportunity to become an actuary. I will spend a lot of time to improve such skills, collect as much information as possible about the future employment environment and future market environment of actuaries, and seek out people who have become actuaries to gain experience.\n",
    "\n",
    "Chatbot has given me general advice and some introductions about this kind of occupation. Compared with experts in related industries, chatbot lacks details, effectiveness and authority. The next step I will take is to seek advice from professionals in related industries."
   ]
  },
  {
   "cell_type": "markdown",
   "id": "ccf8785f",
   "metadata": {},
   "source": [
    "Mostly"
   ]
  }
 ],
 "metadata": {
  "kernelspec": {
   "display_name": "Python 3 (ipykernel)",
   "language": "python",
   "name": "python3"
  },
  "language_info": {
   "codemirror_mode": {
    "name": "ipython",
    "version": 3
   },
   "file_extension": ".py",
   "mimetype": "text/x-python",
   "name": "python",
   "nbconvert_exporter": "python",
   "pygments_lexer": "ipython3",
   "version": "3.11.6"
  }
 },
 "nbformat": 4,
 "nbformat_minor": 5
}
